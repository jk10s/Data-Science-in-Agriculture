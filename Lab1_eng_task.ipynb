{
 "cells": [
  {
   "cell_type": "markdown",
   "metadata": {
    "id": "vxKzyR01ybYX"
   },
   "source": [
    "<p style=\"text-align:center\">\n",
    "    <a href=\"https://skills.network/?utm_medium=Exinfluencer&utm_source=Exinfluencer&utm_content=000026UJ&utm_term=10006555&utm_id=NA-SkillsNetwork-Channel-SkillsNetworkQuickLabsdatascienceinagriculturebasicstatisticalanalysisandgeovisualisation28110426-2022-01-01\" target=\"_blank\">\n",
    "    <img src=\"https://cf-courses-data.s3.us.cloud-object-storage.appdomain.cloud/assets/logos/SN_web_lightmode.png\" width=\"200\" alt=\"Skills Network Logo\"  />\n",
    "    </a>\n",
    "</p>\n"
   ]
  },
  {
   "cell_type": "markdown",
   "metadata": {
    "id": "9JEBPj6Db30b"
   },
   "source": [
    "## **Data Science in Agriculture. Basic statistical analysis and Geo Visualization**\n"
   ]
  },
  {
   "cell_type": "markdown",
   "metadata": {
    "id": "mLJhUfyJzGWN"
   },
   "source": [
    "Estaimted time needed: **45** minutes\n"
   ]
  },
  {
   "cell_type": "markdown",
   "metadata": {
    "id": "wRy7RVJUb30e"
   },
   "source": [
    "## Abstract\n"
   ]
  },
  {
   "cell_type": "markdown",
   "metadata": {
    "id": "XWgmwehSb30f"
   },
   "source": [
    "This lab is dedicated to downloading, pre-preparing and making statistical analysis of Economic accounts for agriculture and to creating interactive maps showing the dynamics of the prices.\n"
   ]
  },
  {
   "cell_type": "markdown",
   "metadata": {
    "id": "SRWNQbq-b30h"
   },
   "source": [
    "## Introduction\n"
   ]
  },
  {
   "cell_type": "markdown",
   "metadata": {
    "id": "ZXty2VZIb30i"
   },
   "source": [
    "The main problem to be solved in this laboratory is the download, statistical analysis and visualization of a DataSet.\n",
    "\n",
    "The basic difficulty of statistical analysis of real data is that it is prepared or presented in a form that is not convenient for machine methods of statistical analysis. Therefore, this lab shows methods of automatic pre-preparation of real data for such cases. The next problem is the ability to competently manipulate and transform big data in order to obtain a convenient statistical report both in tabular form and in the form of graphs.\n",
    "\n",
    "Therefore, the main goal that we are to achieve in this lab is learning how to download, pre-process and conduct a basic statistical analysis of Economic accounts for agriculture and present it on interactive maps.\n"
   ]
  },
  {
   "cell_type": "markdown",
   "metadata": {
    "id": "-hZYHTQqb30l"
   },
   "source": [
    "## Materials and methods\n"
   ]
  },
  {
   "cell_type": "markdown",
   "metadata": {
    "id": "YHCernXkb30n"
   },
   "source": [
    "In this lab, we will learn how to download data, perform basic statistical analysis, visualize and display it on dynamic maps.\n",
    "All data is obtained from Eurostat DataBase ([https://ec.europa.eu/eurostat/data/database](https://ec.europa.eu/eurostat/data/database?utm_medium=Exinfluencer&utm_source=Exinfluencer&utm_content=000026UJ&utm_term=10006555&utm_id=NA-SkillsNetwork-Channel-SkillsNetworkQuickLabsdatascienceinagriculturebasicstatisticalanalysisandgeovisualisation28110426-2022-01-01)). This lab consist of the following steps:\n",
    "\n",
    "*   Data download - download and display data from a file\n",
    "*   Data preparation - preliminary analysis of data structure, change of data types and table structure\n",
    "*   Statistical analysis - basic statistical analysis\n",
    "*   Data visualization - output of various data on graphs\n",
    "*   Build a trend line - the basic method of building a trend line and a forecast based on it\n",
    "*   Interactive maps - construction of interactive maps which show the data change over a period of time.\n"
   ]
  },
  {
   "cell_type": "markdown",
   "metadata": {
    "id": "TvG7RdB0hTZf"
   },
   "source": [
    "The statistical data was obtained from the [https://ec.europa.eu/eurostat/databrowser/view/aact_eaa01/default/table?lang=en](https://ec.europa.eu/eurostat/databrowser/view/aact_eaa01/default/table?utm_medium=Exinfluencer&utm_source=Exinfluencer&utm_content=000026UJ&utm_term=10006555&utm_id=NA-SkillsNetwork-Channel-SkillsNetworkQuickLabsdatascienceinagriculturebasicstatisticalanalysisandgeovisualisation28110426-2022-01-01&lang=en). Eurostat has a policy of encouraging free re-use of its data, both for non-commercial and commercial purposes.\n"
   ]
  },
  {
   "cell_type": "markdown",
   "metadata": {
    "id": "8-XgMaTkb30r"
   },
   "source": [
    "## Prerequisites\n",
    "\n",
    "*   Python - basic level\n",
    "*   [Pandas](https://pandas.pydata.org/?utm_medium=Exinfluencer&utm_source=Exinfluencer&utm_content=000026UJ&utm_term=10006555&utm_id=NA-SkillsNetwork-Channel-SkillsNetworkQuickLabsdatascienceinagriculturebasicstatisticalanalysisandgeovisualisation28110426-2022-01-01) - basic level\n",
    "*   [SeaBorn](https://seaborn.pydata.org/?utm_medium=Exinfluencer&utm_source=Exinfluencer&utm_content=000026UJ&utm_term=10006555&utm_id=NA-SkillsNetwork-Channel-SkillsNetworkQuickLabsdatascienceinagriculturebasicstatisticalanalysisandgeovisualisation28110426-2022-01-01) - basic level\n",
    "*   Statistics - basic level\n",
    "*   [Plotly](https://plotly.com/?utm_medium=Exinfluencer&utm_source=Exinfluencer&utm_content=000026UJ&utm_term=10006555&utm_id=NA-SkillsNetwork-Channel-SkillsNetworkQuickLabsdatascienceinagriculturebasicstatisticalanalysisandgeovisualisation28110426-2022-01-01) - basic level\n"
   ]
  },
  {
   "cell_type": "markdown",
   "metadata": {
    "id": "B2fwXISJb30s"
   },
   "source": [
    "## Objectives\n"
   ]
  },
  {
   "cell_type": "markdown",
   "metadata": {
    "id": "k7JM_3Ugb30t"
   },
   "source": [
    "After completing this lab, you will be able to:\n"
   ]
  },
  {
   "cell_type": "markdown",
   "metadata": {
    "id": "ep9angwBb30u"
   },
   "source": [
    "*   Download a DataSet from \\*.csv files\n",
    "*   Transform the table\n",
    "*   Visualize data with pandas and seaborn\n",
    "*   Expect\n",
    "    *   Minimum and maximum value\n",
    "    *   Average\n",
    "    *   Quarters\n",
    "    *   Pivot tables\n",
    "*   Build Interactive Maps\n"
   ]
  },
  {
   "cell_type": "markdown",
   "metadata": {
    "id": "4c4GR5cXEfQS"
   },
   "source": [
    "## Import Libraries/Define Auxiliary Functions\n"
   ]
  },
  {
   "cell_type": "markdown",
   "metadata": {
    "id": "FF-oG6h7hTZo"
   },
   "source": [
    "**Running outside Skills Network Labs.** This notebook was tested within Skills Network Labs. Running in another environment should work as well, but is not guaranteed and may require different setup routine.\n"
   ]
  },
  {
   "cell_type": "markdown",
   "metadata": {
    "id": "ehRj0Z6Xb30x"
   },
   "source": [
    "Libraries such as Pandas, MatplotLib, SeaBorn and plotly should be installed.\n"
   ]
  },
  {
   "cell_type": "code",
   "execution_count": null,
   "metadata": {
    "id": "DtNeLPQjhTZu"
   },
   "outputs": [],
   "source": [
    "# conda install pandas"
   ]
  },
  {
   "cell_type": "code",
   "execution_count": null,
   "metadata": {
    "id": "mdGO3tdwhTZw"
   },
   "outputs": [],
   "source": [
    "# conda install matplotlib"
   ]
  },
  {
   "cell_type": "code",
   "execution_count": null,
   "metadata": {
    "id": "nA-7HU1cb300"
   },
   "outputs": [],
   "source": [
    "# conda install pycountry"
   ]
  },
  {
   "cell_type": "code",
   "execution_count": null,
   "metadata": {
    "id": "zFKMtl52G9wW"
   },
   "outputs": [],
   "source": [
    "# conda install plotly"
   ]
  },
  {
   "cell_type": "code",
   "execution_count": null,
   "metadata": {
    "id": "jDImqp6MG9wX"
   },
   "outputs": [],
   "source": [
    "# conda install -c conda-forge pycountry"
   ]
  },
  {
   "cell_type": "code",
   "execution_count": null,
   "metadata": {
    "id": "GtDroZMSG9wY"
   },
   "outputs": [],
   "source": [
    "# conda install seaborn"
   ]
  },
  {
   "cell_type": "code",
   "execution_count": null,
   "metadata": {
    "id": "RwFmeG1FG9wZ"
   },
   "outputs": [],
   "source": [
    "# conda install IPython"
   ]
  },
  {
   "cell_type": "markdown",
   "metadata": {
    "id": "vQ7T0Cclb301"
   },
   "source": [
    "## Download data from a .csv file\n"
   ]
  },
  {
   "cell_type": "markdown",
   "metadata": {
    "id": "GI7u9rwFb301"
   },
   "source": [
    "Some libraries should be imported before you can begin.\n"
   ]
  },
  {
   "cell_type": "code",
   "execution_count": 13,
   "metadata": {
    "id": "jvPZyVlvb302"
   },
   "outputs": [],
   "source": [
    "import pandas as pd"
   ]
  },
  {
   "cell_type": "markdown",
   "metadata": {
    "id": "EhF98WOJehXi"
   },
   "source": [
    "The next step is to download the data file from the repository by **[read_csv()](https://pandas.pydata.org/docs/reference/api/pandas.read_csv.html?utm_medium=Exinfluencer&utm_source=Exinfluencer&utm_content=000026UJ&utm_term=10006555&utm_id=NA-SkillsNetwork-Channel-SkillsNetworkQuickLabsdatascienceinagriculturebasicstatisticalanalysisandgeovisualisation28110426-2022-01-01)**\n"
   ]
  },
  {
   "cell_type": "code",
   "execution_count": 15,
   "metadata": {
    "id": "zNwic0ECb303"
   },
   "outputs": [],
   "source": [
    "df = pd.read_csv('a.csv')"
   ]
  },
  {
   "cell_type": "markdown",
   "metadata": {
    "id": "-QpNMqkyM6AT"
   },
   "source": [
    "Now let's look at our DataSet.\n"
   ]
  },
  {
   "cell_type": "code",
   "execution_count": 16,
   "metadata": {
    "id": "uHuh-hTpNHv3",
    "outputId": "2571fd47-2319-4ca5-fa34-f89b339b39b0"
   },
   "outputs": [
    {
     "data": {
      "text/html": [
       "<div>\n",
       "<style scoped>\n",
       "    .dataframe tbody tr th:only-of-type {\n",
       "        vertical-align: middle;\n",
       "    }\n",
       "\n",
       "    .dataframe tbody tr th {\n",
       "        vertical-align: top;\n",
       "    }\n",
       "\n",
       "    .dataframe thead th {\n",
       "        text-align: right;\n",
       "    }\n",
       "</style>\n",
       "<table border=\"1\" class=\"dataframe\">\n",
       "  <thead>\n",
       "    <tr style=\"text-align: right;\">\n",
       "      <th></th>\n",
       "      <th>DATAFLOW</th>\n",
       "      <th>LAST UPDATE</th>\n",
       "      <th>freq</th>\n",
       "      <th>itm_newa</th>\n",
       "      <th>indic_ag</th>\n",
       "      <th>unit</th>\n",
       "      <th>geo</th>\n",
       "      <th>TIME_PERIOD</th>\n",
       "      <th>OBS_VALUE</th>\n",
       "      <th>OBS_FLAG</th>\n",
       "    </tr>\n",
       "  </thead>\n",
       "  <tbody>\n",
       "    <tr>\n",
       "      <th>0</th>\n",
       "      <td>ESTAT:AACT_EAA01$DEFAULTVIEW(1.0)</td>\n",
       "      <td>15/07/22 23:00:00</td>\n",
       "      <td>A</td>\n",
       "      <td>1000</td>\n",
       "      <td>PROD_BP</td>\n",
       "      <td>MIO_EUR</td>\n",
       "      <td>AT</td>\n",
       "      <td>2012</td>\n",
       "      <td>1029.21</td>\n",
       "      <td>NaN</td>\n",
       "    </tr>\n",
       "    <tr>\n",
       "      <th>1</th>\n",
       "      <td>ESTAT:AACT_EAA01$DEFAULTVIEW(1.0)</td>\n",
       "      <td>15/07/22 23:00:00</td>\n",
       "      <td>A</td>\n",
       "      <td>1000</td>\n",
       "      <td>PROD_BP</td>\n",
       "      <td>MIO_EUR</td>\n",
       "      <td>AT</td>\n",
       "      <td>2013</td>\n",
       "      <td>717.58</td>\n",
       "      <td>NaN</td>\n",
       "    </tr>\n",
       "    <tr>\n",
       "      <th>2</th>\n",
       "      <td>ESTAT:AACT_EAA01$DEFAULTVIEW(1.0)</td>\n",
       "      <td>15/07/22 23:00:00</td>\n",
       "      <td>A</td>\n",
       "      <td>1000</td>\n",
       "      <td>PROD_BP</td>\n",
       "      <td>MIO_EUR</td>\n",
       "      <td>AT</td>\n",
       "      <td>2014</td>\n",
       "      <td>769.41</td>\n",
       "      <td>NaN</td>\n",
       "    </tr>\n",
       "    <tr>\n",
       "      <th>3</th>\n",
       "      <td>ESTAT:AACT_EAA01$DEFAULTVIEW(1.0)</td>\n",
       "      <td>15/07/22 23:00:00</td>\n",
       "      <td>A</td>\n",
       "      <td>1000</td>\n",
       "      <td>PROD_BP</td>\n",
       "      <td>MIO_EUR</td>\n",
       "      <td>AT</td>\n",
       "      <td>2015</td>\n",
       "      <td>728.38</td>\n",
       "      <td>NaN</td>\n",
       "    </tr>\n",
       "    <tr>\n",
       "      <th>4</th>\n",
       "      <td>ESTAT:AACT_EAA01$DEFAULTVIEW(1.0)</td>\n",
       "      <td>15/07/22 23:00:00</td>\n",
       "      <td>A</td>\n",
       "      <td>1000</td>\n",
       "      <td>PROD_BP</td>\n",
       "      <td>MIO_EUR</td>\n",
       "      <td>AT</td>\n",
       "      <td>2016</td>\n",
       "      <td>749.33</td>\n",
       "      <td>NaN</td>\n",
       "    </tr>\n",
       "    <tr>\n",
       "      <th>...</th>\n",
       "      <td>...</td>\n",
       "      <td>...</td>\n",
       "      <td>...</td>\n",
       "      <td>...</td>\n",
       "      <td>...</td>\n",
       "      <td>...</td>\n",
       "      <td>...</td>\n",
       "      <td>...</td>\n",
       "      <td>...</td>\n",
       "      <td>...</td>\n",
       "    </tr>\n",
       "    <tr>\n",
       "      <th>19930</th>\n",
       "      <td>ESTAT:AACT_EAA01$DEFAULTVIEW(1.0)</td>\n",
       "      <td>15/07/22 23:00:00</td>\n",
       "      <td>A</td>\n",
       "      <td>1200</td>\n",
       "      <td>TAX</td>\n",
       "      <td>MIO_PPS</td>\n",
       "      <td>UK</td>\n",
       "      <td>2016</td>\n",
       "      <td>NaN</td>\n",
       "      <td>z</td>\n",
       "    </tr>\n",
       "    <tr>\n",
       "      <th>19931</th>\n",
       "      <td>ESTAT:AACT_EAA01$DEFAULTVIEW(1.0)</td>\n",
       "      <td>15/07/22 23:00:00</td>\n",
       "      <td>A</td>\n",
       "      <td>1200</td>\n",
       "      <td>TAX</td>\n",
       "      <td>MIO_PPS</td>\n",
       "      <td>UK</td>\n",
       "      <td>2017</td>\n",
       "      <td>NaN</td>\n",
       "      <td>z</td>\n",
       "    </tr>\n",
       "    <tr>\n",
       "      <th>19932</th>\n",
       "      <td>ESTAT:AACT_EAA01$DEFAULTVIEW(1.0)</td>\n",
       "      <td>15/07/22 23:00:00</td>\n",
       "      <td>A</td>\n",
       "      <td>1200</td>\n",
       "      <td>TAX</td>\n",
       "      <td>MIO_PPS</td>\n",
       "      <td>UK</td>\n",
       "      <td>2018</td>\n",
       "      <td>NaN</td>\n",
       "      <td>z</td>\n",
       "    </tr>\n",
       "    <tr>\n",
       "      <th>19933</th>\n",
       "      <td>ESTAT:AACT_EAA01$DEFAULTVIEW(1.0)</td>\n",
       "      <td>15/07/22 23:00:00</td>\n",
       "      <td>A</td>\n",
       "      <td>1200</td>\n",
       "      <td>TAX</td>\n",
       "      <td>MIO_PPS</td>\n",
       "      <td>UK</td>\n",
       "      <td>2019</td>\n",
       "      <td>0.00</td>\n",
       "      <td>NaN</td>\n",
       "    </tr>\n",
       "    <tr>\n",
       "      <th>19934</th>\n",
       "      <td>ESTAT:AACT_EAA01$DEFAULTVIEW(1.0)</td>\n",
       "      <td>15/07/22 23:00:00</td>\n",
       "      <td>A</td>\n",
       "      <td>1200</td>\n",
       "      <td>TAX</td>\n",
       "      <td>MIO_PPS</td>\n",
       "      <td>UK</td>\n",
       "      <td>2020</td>\n",
       "      <td>0.00</td>\n",
       "      <td>e</td>\n",
       "    </tr>\n",
       "  </tbody>\n",
       "</table>\n",
       "<p>19935 rows × 10 columns</p>\n",
       "</div>"
      ],
      "text/plain": [
       "                                DATAFLOW        LAST UPDATE freq  itm_newa  \\\n",
       "0      ESTAT:AACT_EAA01$DEFAULTVIEW(1.0)  15/07/22 23:00:00    A      1000   \n",
       "1      ESTAT:AACT_EAA01$DEFAULTVIEW(1.0)  15/07/22 23:00:00    A      1000   \n",
       "2      ESTAT:AACT_EAA01$DEFAULTVIEW(1.0)  15/07/22 23:00:00    A      1000   \n",
       "3      ESTAT:AACT_EAA01$DEFAULTVIEW(1.0)  15/07/22 23:00:00    A      1000   \n",
       "4      ESTAT:AACT_EAA01$DEFAULTVIEW(1.0)  15/07/22 23:00:00    A      1000   \n",
       "...                                  ...                ...  ...       ...   \n",
       "19930  ESTAT:AACT_EAA01$DEFAULTVIEW(1.0)  15/07/22 23:00:00    A      1200   \n",
       "19931  ESTAT:AACT_EAA01$DEFAULTVIEW(1.0)  15/07/22 23:00:00    A      1200   \n",
       "19932  ESTAT:AACT_EAA01$DEFAULTVIEW(1.0)  15/07/22 23:00:00    A      1200   \n",
       "19933  ESTAT:AACT_EAA01$DEFAULTVIEW(1.0)  15/07/22 23:00:00    A      1200   \n",
       "19934  ESTAT:AACT_EAA01$DEFAULTVIEW(1.0)  15/07/22 23:00:00    A      1200   \n",
       "\n",
       "      indic_ag     unit geo  TIME_PERIOD  OBS_VALUE OBS_FLAG  \n",
       "0      PROD_BP  MIO_EUR  AT         2012    1029.21      NaN  \n",
       "1      PROD_BP  MIO_EUR  AT         2013     717.58      NaN  \n",
       "2      PROD_BP  MIO_EUR  AT         2014     769.41      NaN  \n",
       "3      PROD_BP  MIO_EUR  AT         2015     728.38      NaN  \n",
       "4      PROD_BP  MIO_EUR  AT         2016     749.33      NaN  \n",
       "...        ...      ...  ..          ...        ...      ...  \n",
       "19930      TAX  MIO_PPS  UK         2016        NaN        z  \n",
       "19931      TAX  MIO_PPS  UK         2017        NaN        z  \n",
       "19932      TAX  MIO_PPS  UK         2018        NaN        z  \n",
       "19933      TAX  MIO_PPS  UK         2019       0.00      NaN  \n",
       "19934      TAX  MIO_PPS  UK         2020       0.00        e  \n",
       "\n",
       "[19935 rows x 10 columns]"
      ]
     },
     "execution_count": 16,
     "metadata": {},
     "output_type": "execute_result"
    }
   ],
   "source": [
    "df"
   ]
  },
  {
   "cell_type": "markdown",
   "metadata": {
    "id": "JjGlcEuPG9wg"
   },
   "source": [
    "## Data preparation\n"
   ]
  },
  {
   "cell_type": "markdown",
   "metadata": {
    "id": "i9kO9ZqWG9wh"
   },
   "source": [
    "Let's show a list of DataSet colums (**[pandas.DataFrame.columns](https://pandas.pydata.org/docs/reference/api/pandas.DataFrame.columns.html?utm_medium=Exinfluencer&utm_source=Exinfluencer&utm_content=000026UJ&utm_term=10006555&utm_id=NA-SkillsNetwork-Channel-SkillsNetworkQuickLabsdatascienceinagriculturebasicstatisticalanalysisandgeovisualisation28110426-2022-01-01)**)\n"
   ]
  },
  {
   "cell_type": "code",
   "execution_count": 17,
   "metadata": {
    "id": "VlAxKv8TG9wi"
   },
   "outputs": [
    {
     "data": {
      "text/plain": [
       "Index(['DATAFLOW', 'LAST UPDATE', 'freq', 'itm_newa', 'indic_ag', 'unit',\n",
       "       'geo', 'TIME_PERIOD', 'OBS_VALUE', 'OBS_FLAG'],\n",
       "      dtype='object')"
      ]
     },
     "execution_count": 17,
     "metadata": {},
     "output_type": "execute_result"
    }
   ],
   "source": [
    "df.columns"
   ]
  },
  {
   "cell_type": "markdown",
   "metadata": {
    "id": "Yeh4oLE6G9wi"
   },
   "source": [
    "Let's select only colums 6, 7 and 8 for our future analysis.\n"
   ]
  },
  {
   "cell_type": "code",
   "execution_count": null,
   "metadata": {
    "id": "3SmCrHfFG9wj"
   },
   "outputs": [],
   "source": [
    "col = df.columns[##YOUR CODE GOES HERE##]\n",
    "col"
   ]
  },
  {
   "cell_type": "markdown",
   "metadata": {
    "id": "Eunk0115G9wj"
   },
   "source": [
    "<details><summary>Click <b>here</b> for the solution</summary> \n",
    "<code>    \n",
    "col = df.columns[6:-1]\n",
    "col\n",
    "    </code>\n",
    "</details>\n"
   ]
  },
  {
   "cell_type": "markdown",
   "metadata": {
    "id": "wJjz_j_mG9wk"
   },
   "source": [
    "Remove all the other columns from the DataSet.\n"
   ]
  },
  {
   "cell_type": "code",
   "execution_count": null,
   "metadata": {
    "id": "Wd8TzRBrG9wk"
   },
   "outputs": [],
   "source": [
    "df = df[col]\n",
    "df"
   ]
  },
  {
   "cell_type": "markdown",
   "metadata": {
    "id": "RB2a1cN3G9wl"
   },
   "source": [
    "For further analysis it is necessary to study the general characteristics of the fields using **[info()](https://pandas.pydata.org/docs/reference/api/pandas.DataFrame.info.html?utm_medium=Exinfluencer&utm_source=Exinfluencer&utm_content=000026UJ&utm_term=10006555&utm_id=NA-SkillsNetwork-Channel-SkillsNetworkQuickLabsdatascienceinagriculturebasicstatisticalanalysisandgeovisualisation28110426-2022-01-01&highlight=info#pandas.DataFrame.info)**.\n"
   ]
  },
  {
   "cell_type": "code",
   "execution_count": null,
   "metadata": {
    "id": "vBRZCTw5G9wl"
   },
   "outputs": [],
   "source": [
    "df.info()"
   ]
  },
  {
   "cell_type": "markdown",
   "metadata": {
    "id": "C-cyEvuGG9wm"
   },
   "source": [
    "We can see that column 'geo' has an object type. But this column contains country codes.\n",
    "Therefore, it is necessary to change the type of this data to categorical.\n"
   ]
  },
  {
   "cell_type": "code",
   "execution_count": null,
   "metadata": {
    "id": "8kifHEPnG9wm"
   },
   "outputs": [],
   "source": [
    "df.loc[:, 'geo'] = df['geo'].astype('category')\n",
    "df.info()"
   ]
  },
  {
   "cell_type": "markdown",
   "metadata": {
    "id": "ueyXbJXIG9wn"
   },
   "source": [
    "Let's get a list of countries (**[pandas.unique()](https://pandas.pydata.org/pandas-docs/stable/reference/api/pandas.unique.html?utm_medium=Exinfluencer&utm_source=Exinfluencer&utm_content=000026UJ&utm_term=10006555&utm_id=NA-SkillsNetwork-Channel-SkillsNetworkQuickLabsdatascienceinagriculturebasicstatisticalanalysisandgeovisualisation28110426-2022-01-01)**).\n"
   ]
  },
  {
   "cell_type": "code",
   "execution_count": null,
   "metadata": {
    "id": "KMlfnBJ-G9wn"
   },
   "outputs": [],
   "source": [
    "df['geo'].unique()"
   ]
  },
  {
   "cell_type": "markdown",
   "metadata": {
    "id": "G3OmTvRfG9wo"
   },
   "source": [
    "It should be noted that there are some nonsandard counry codes for the United Kingdom and Greece.\n",
    "We should change the values: UK to GB for the United Kingdom and EL to GR for Greece.\n",
    "To do this, we should add new category names using **[pandas.Series.cat.add_categories()](https://pandas.pydata.org/pandas-docs/version/1.0.5/reference/api/pandas.Series.cat.add_categories.html?utm_medium=Exinfluencer&utm_source=Exinfluencer&utm_content=000026UJ&utm_term=10006555&utm_id=NA-SkillsNetwork-Channel-SkillsNetworkQuickLabsdatascienceinagriculturebasicstatisticalanalysisandgeovisualisation28110426-2022-01-01)**.\n"
   ]
  },
  {
   "cell_type": "code",
   "execution_count": null,
   "metadata": {
    "id": "fgm-KPxyG9wp"
   },
   "outputs": [],
   "source": [
    "df['geo'] = df['geo'].cat.add_categories([\"GB\", \"GR\"])"
   ]
  },
  {
   "cell_type": "markdown",
   "metadata": {
    "id": "GLocmtmDG9wp"
   },
   "source": [
    "Then we should change the values using a binary mask:\n"
   ]
  },
  {
   "cell_type": "code",
   "execution_count": null,
   "metadata": {
    "id": "7Q2Qn4mTG9wq"
   },
   "outputs": [],
   "source": [
    "pd.options.mode.chained_assignment = None  # swich of the warnings\n",
    "mask = df['geo'] == 'UK' # Binary mask\n",
    "df.loc[mask, 'geo'] = \"GB\" # Change the values for mask\n",
    "df"
   ]
  },
  {
   "cell_type": "markdown",
   "metadata": {
    "id": "rFUnguqiG9wq"
   },
   "source": [
    "Let's do the same for Greece: 'EL'->'GR'\n"
   ]
  },
  {
   "cell_type": "code",
   "execution_count": null,
   "metadata": {
    "id": "0mQGhXu7G9wr"
   },
   "outputs": [],
   "source": [
    "mask = df['geo'] == ##YOUR CODE GOES HERE##\n",
    "df.loc[mask, 'geo'] = ##YOUR CODE GOES HERE## \n",
    "df"
   ]
  },
  {
   "cell_type": "markdown",
   "metadata": {
    "id": "wWBJjgHwG9wr"
   },
   "source": [
    "<details><summary>Click <b>here</b> for the solution</summary> \n",
    "<code>    \n",
    "mask = df['geo'] == 'EL'\n",
    "df.loc[mask, 'geo'] = \"GR\"\n",
    "df\n",
    "    </code>\n",
    "</details>\n"
   ]
  },
  {
   "cell_type": "markdown",
   "metadata": {
    "id": "ya-ZQSnxG9ws"
   },
   "source": [
    "After that, add a new column that contains full names of countries. To do this, we can use **[pycountry](https://pypi.org/project/pycountry/?utm_medium=Exinfluencer&utm_source=Exinfluencer&utm_content=000026UJ&utm_term=10006555&utm_id=NA-SkillsNetwork-Channel-SkillsNetworkQuickLabsdatascienceinagriculturebasicstatisticalanalysisandgeovisualisation28110426-2022-01-01)** library.\n"
   ]
  },
  {
   "cell_type": "code",
   "execution_count": null,
   "metadata": {
    "id": "nhL-J6-VG9ws"
   },
   "outputs": [],
   "source": [
    "import pycountry"
   ]
  },
  {
   "cell_type": "markdown",
   "metadata": {
    "id": "ETIVPsxUG9wt"
   },
   "source": [
    "pycountry provides the ISO databases for different standards.\n",
    "\n",
    "In order to add a column with full country names we need to create a function that will get a counry code and return a full name.\n",
    "Then it should be the function **[pandas.DataFrame.apply()](https://pandas.pydata.org/pandas-docs/stable/reference/api/pandas.DataFrame.apply.html?utm_medium=Exinfluencer&utm_source=Exinfluencer&utm_content=000026UJ&utm_term=10006555&utm_id=NA-SkillsNetwork-Channel-SkillsNetworkQuickLabsdatascienceinagriculturebasicstatisticalanalysisandgeovisualisation28110426-2022-01-01)** for calculating new column values.\n"
   ]
  },
  {
   "cell_type": "code",
   "execution_count": null,
   "metadata": {
    "id": "leKQfua9G9wt"
   },
   "outputs": [],
   "source": [
    "list_alpha_2 = [i.alpha_2 for i in list(pycountry.countries)]  # create a list of country codes\n",
    "print(\"Country codes\", list_alpha_2)\n",
    "\n",
    "def country_flag(df):\n",
    "    '''\n",
    "    df: Series\n",
    "    return: Full name of country or \"Invalide code\"\n",
    "    '''\n",
    "    if (df['geo'] in list_alpha_2):\n",
    "        return pycountry.countries.get(alpha_2=df['geo']).name\n",
    "    else:\n",
    "        print(df['geo'])\n",
    "        return 'Invalid Code'\n",
    "\n",
    "df['country_name']=df.apply(country_flag, axis = 1)\n",
    "df"
   ]
  },
  {
   "cell_type": "markdown",
   "metadata": {
    "id": "b17zZdTfG9wu"
   },
   "source": [
    "As you can see, the column with full country names has been added and this DataSet contains a lot of data with an Invalide Code. Let's remove this data using a binary mask.\n"
   ]
  },
  {
   "cell_type": "code",
   "execution_count": null,
   "metadata": {
    "id": "GdKONHXDG9wv"
   },
   "outputs": [],
   "source": [
    "mask = df['country_name'] != ##YOUR CODE GOES HERE##\n",
    "df = df[mask]\n",
    "df"
   ]
  },
  {
   "cell_type": "markdown",
   "metadata": {
    "id": "QMKX5FQ4G9wv"
   },
   "source": [
    "<details><summary>Click <b>here</b> for the solution</summary> \n",
    "<code>    \n",
    "mask = df['country_name'] != 'Invalid Code'\n",
    "df = df[mask]\n",
    "df\n",
    "    </code>\n",
    "</details>\n"
   ]
  },
  {
   "cell_type": "markdown",
   "metadata": {
    "id": "twmnyE2PG9ww"
   },
   "source": [
    "## Statistical analysis\n"
   ]
  },
  {
   "cell_type": "markdown",
   "metadata": {
    "id": "fb0L1A0XG9wx"
   },
   "source": [
    "Let's study this DataSet.\n"
   ]
  },
  {
   "cell_type": "code",
   "execution_count": null,
   "metadata": {
    "id": "ht1Ja2U4G9wy"
   },
   "outputs": [],
   "source": [
    "df.info()"
   ]
  },
  {
   "cell_type": "markdown",
   "metadata": {
    "id": "LDHEah1xG9wy"
   },
   "source": [
    "The summary statistics can be calculated easily with the following command: **[describe()](https://pandas.pydata.org/docs/reference/api/pandas.DataFrame.describe.html?utm_medium=Exinfluencer&utm_source=Exinfluencer&utm_content=000026UJ&utm_term=10006555&utm_id=NA-SkillsNetwork-Channel-SkillsNetworkQuickLabsdatascienceinagriculturebasicstatisticalanalysisandgeovisualisation28110426-2022-01-01&highlight=describe#pandas.DataFrame.describe)**.\n"
   ]
  },
  {
   "cell_type": "code",
   "execution_count": null,
   "metadata": {
    "id": "ESk9nJzRG9wz"
   },
   "outputs": [],
   "source": [
    "df.describe()"
   ]
  },
  {
   "cell_type": "markdown",
   "metadata": {
    "id": "mZ26SvUBG9w0"
   },
   "source": [
    "As you can see, the result highlights basic statistical information for all the columns except the categorical and object ones.\n",
    "The information includes the total, average, standard deviation, minimum, maximum and the values of the main quarters.\n",
    "In order to display the summary information of category fields, we have to specify the data types we want to display the statistics for:\n"
   ]
  },
  {
   "cell_type": "code",
   "execution_count": null,
   "metadata": {
    "id": "KcupKc1IG9w1"
   },
   "outputs": [],
   "source": [
    "df.describe(include=['category'])"
   ]
  },
  {
   "cell_type": "markdown",
   "metadata": {
    "id": "xVfnWikLG9w1"
   },
   "source": [
    "As you can see, the statistical information consists of the number of unique values, the value of the most popular category and the number of its values.\n",
    "The detailed information for a specific column can be obtained as follows (**[value_counts()](https://pandas.pydata.org/docs/reference/api/pandas.Series.value_counts.html?utm_medium=Exinfluencer&utm_source=Exinfluencer&utm_content=000026UJ&utm_term=10006555&utm_id=NA-SkillsNetwork-Channel-SkillsNetworkQuickLabsdatascienceinagriculturebasicstatisticalanalysisandgeovisualisation28110426-2022-01-01&highlight=value_counts#pandas.Series.value_counts)**):\n"
   ]
  },
  {
   "cell_type": "code",
   "execution_count": null,
   "metadata": {
    "id": "-Q6_BuZkG9w2"
   },
   "outputs": [],
   "source": [
    "df['country_name'].value_counts()"
   ]
  },
  {
   "cell_type": "markdown",
   "metadata": {
    "id": "Z1_QWwLyG9w2"
   },
   "source": [
    "You can see that this information is not suitable because the data is not grouped. To get suitable statistics this DataSet should be transformed using a pivot table **[pivot_table()](https://pandas.pydata.org/docs/reference/api/pandas.DataFrame.pivot_table.html?utm_medium=Exinfluencer&utm_source=Exinfluencer&utm_content=000026UJ&utm_term=10006555&utm_id=NA-SkillsNetwork-Channel-SkillsNetworkQuickLabsdatascienceinagriculturebasicstatisticalanalysisandgeovisualisation28110426-2022-01-01&highlight=pivot_table#pandas.DataFrame.pivot_table)**\n"
   ]
  },
  {
   "cell_type": "code",
   "execution_count": null,
   "metadata": {
    "id": "GiAkGOfdG9w3"
   },
   "outputs": [],
   "source": [
    "pt_country = pd.pivot_table(df, values= 'OBS_VALUE', index= ['TIME_PERIOD'], columns=['country_name'], aggfunc='sum', margins=True)\n",
    "pt_country"
   ]
  },
  {
   "cell_type": "markdown",
   "metadata": {
    "id": "GuJo_sMqG9w3"
   },
   "source": [
    "After that we can calculate statistic description for each country.\n"
   ]
  },
  {
   "cell_type": "code",
   "execution_count": null,
   "metadata": {
    "id": "mN1dMX6XG9w4"
   },
   "outputs": [],
   "source": [
    "##YOUR CODE GOES HERE##"
   ]
  },
  {
   "cell_type": "markdown",
   "metadata": {
    "id": "Mg8L_ZXJG9w4"
   },
   "source": [
    "<details><summary>Click <b>here</b> for the solution</summary> \n",
    "<code>    \n",
    "pt_country.describe()\n",
    "    </code>\n",
    "</details>\n"
   ]
  },
  {
   "cell_type": "markdown",
   "metadata": {
    "id": "d1SugtyHG9w5"
   },
   "source": [
    "Or we can get statistics for years:\n"
   ]
  },
  {
   "cell_type": "code",
   "execution_count": null,
   "metadata": {
    "id": "RrpJ_SipG9w5"
   },
   "outputs": [],
   "source": [
    "pt = pd.pivot_table(df, values= 'OBS_VALUE', index= ['##YOUR CODE GOES HERE##'], columns=['TIME_PERIOD'], aggfunc='sum', margins=True)\n",
    "pt"
   ]
  },
  {
   "cell_type": "markdown",
   "metadata": {
    "id": "NXqZJPd0G9w6"
   },
   "source": [
    "<details><summary>Click <b>here</b> for the solution</summary> \n",
    "<code>    \n",
    "pt = pd.pivot_table(df, values= 'OBS_VALUE', index= ['country_name'], columns=['TIME_PERIOD'], aggfunc='sum', margins=True)\n",
    "pt\n",
    "    </code>\n",
    "</details>\n"
   ]
  },
  {
   "cell_type": "code",
   "execution_count": null,
   "metadata": {
    "id": "jLasElpFG9w6"
   },
   "outputs": [],
   "source": [
    "pt.describe()"
   ]
  },
  {
   "cell_type": "markdown",
   "metadata": {
    "id": "KP4xLlfsG9w7"
   },
   "source": [
    "## Data visualization\n"
   ]
  },
  {
   "cell_type": "markdown",
   "metadata": {
    "id": "e_hmmI6YG9w8"
   },
   "source": [
    "Now let's visualize our data.\n",
    "We will use Pandas and Matplotlib SeaBorn libraries.\n",
    "\n",
    "**Library documentation**\n",
    "\n",
    "[https://matplotlib.org](https://matplotlib.org/?utm_medium=Exinfluencer&utm_source=Exinfluencer&utm_content=000026UJ&utm_term=10006555&utm_id=NA-SkillsNetwork-Channel-SkillsNetworkQuickLabsdatascienceinagriculturebasicstatisticalanalysisandgeovisualisation28110426-2022-01-01)\n",
    "\n",
    "[https://seaborn.pydata.org](https://seaborn.pydata.org/?utm_medium=Exinfluencer&utm_source=Exinfluencer&utm_content=000026UJ&utm_term=10006555&utm_id=NA-SkillsNetwork-Channel-SkillsNetworkQuickLabsdatascienceinagriculturebasicstatisticalanalysisandgeovisualisation28110426-2022-01-01)\n"
   ]
  },
  {
   "cell_type": "markdown",
   "metadata": {
    "id": "LezZjgbnG9w8"
   },
   "source": [
    "Let's build a plot for the last row ('All') except the last values for column ('All'). Pandas inherits Matplotlib function for plotting.\n"
   ]
  },
  {
   "cell_type": "code",
   "execution_count": null,
   "metadata": {
    "id": "WO6VpapXG9w9"
   },
   "outputs": [],
   "source": [
    "pt.iloc[-1][:-1].plot()"
   ]
  },
  {
   "cell_type": "markdown",
   "metadata": {
    "id": "CSvkam3MG9w-"
   },
   "source": [
    "Let's build a bar plot for summary values for each country (the last column 'All' except the last row).\n"
   ]
  },
  {
   "cell_type": "code",
   "execution_count": null,
   "metadata": {
    "id": "cp38f5TTG9w-"
   },
   "outputs": [],
   "source": [
    "pt[##YOUR CODE GOES HERE##][:-1].plot.bar(x='country_name', y='val', rot=90)"
   ]
  },
  {
   "cell_type": "markdown",
   "metadata": {
    "id": "I1egIZ6HG9w_"
   },
   "source": [
    "<details><summary>Click <b>here</b> for the solution</summary> \n",
    "<code>    \n",
    "pt['All'][:-1].plot.bar(x='country_name', y='val', rot=90)\n",
    "    </code>\n",
    "</details>\n"
   ]
  },
  {
   "cell_type": "markdown",
   "metadata": {
    "id": "H1LVie2GG9xA"
   },
   "source": [
    "Let's build a plot for economic accounts dynamics for Sweden.\n"
   ]
  },
  {
   "cell_type": "code",
   "execution_count": null,
   "metadata": {
    "id": "2GNer9ImG9xB"
   },
   "outputs": [],
   "source": [
    "pt.loc['Sweden'][:-1].plot()"
   ]
  },
  {
   "cell_type": "markdown",
   "metadata": {
    "id": "aZ1LdFdyG9xB"
   },
   "source": [
    "Let's compare economic accounts for Germany and France on a bar plot. To do this we should make a lot of preparation:\n"
   ]
  },
  {
   "cell_type": "code",
   "execution_count": null,
   "metadata": {
    "id": "IEjWvS7UG9xC"
   },
   "outputs": [],
   "source": [
    "import numpy as np\n",
    "import matplotlib.pyplot as plt\n",
    "\n",
    "x = np.arange(len(pt.columns)-1)  # the label locations\n",
    "width = 0.35  # the width of the bars\n",
    "\n",
    "fig, ax = plt.subplots() # Create subplots\n",
    "rects1 = ax.bar(x - width/2, pt.loc['Germany'][:-1], width, label='Germany') # parameters of bars\n",
    "rects2 = ax.bar(x + width/2, pt.loc['France'][:-1], width, label='France')\n",
    "\n",
    "# Add some text for labels, title and custom x-axis tick labels, etc.\n",
    "ax.set_ylabel('OBS_VALUE')\n",
    "ax.set_xlabel('Years')\n",
    "ax.set_xticks(x)\n",
    "plt.xticks(rotation = 90)\n",
    "ax.set_xticklabels(pt.columns[:-1])\n",
    "ax.legend()\n",
    "\n",
    "fig.tight_layout()\n",
    "\n",
    "plt.show()"
   ]
  },
  {
   "cell_type": "markdown",
   "metadata": {
    "id": "TZxxlxESG9xD"
   },
   "source": [
    "Also we can build some specific plots using SeaBorn library.\n"
   ]
  },
  {
   "cell_type": "code",
   "execution_count": null,
   "metadata": {
    "id": "QtETI2TTG9xE"
   },
   "outputs": [],
   "source": [
    "import seaborn as sns\n",
    "d = pd.DataFrame(pt.loc['Sweden'][:-1])\n",
    "print(d)\n",
    "sns.regplot(x=d.index, y=\"Sweden\", data=d,)"
   ]
  },
  {
   "cell_type": "markdown",
   "metadata": {
    "id": "9CQ5LxApG9xF"
   },
   "source": [
    "## Build a trend line\n"
   ]
  },
  {
   "cell_type": "markdown",
   "metadata": {
    "id": "vG7T_u-PG9xF"
   },
   "source": [
    "Let's make a forecast of dynamics using a linear trend line for Sweden.\n",
    "To build a linear model, it is necessary to create the linear model itself, fit it, test it, and make a prediction.\n",
    "To do this, use **[sklearn.linear_model.LinearRegression()](https://scikit-learn.org/stable/modules/generated/sklearn.linear_model.LinearRegression.html?utm_medium=Exinfluencer&utm_source=Exinfluencer&utm_content=000026UJ&utm_term=10006555&utm_id=NA-SkillsNetwork-Channel-SkillsNetworkQuickLabsdatascienceinagriculturebasicstatisticalanalysisandgeovisualisation28110426-2022-01-01)**.\n"
   ]
  },
  {
   "cell_type": "code",
   "execution_count": null,
   "metadata": {
    "id": "q7OaJfwpG9xG"
   },
   "outputs": [],
   "source": [
    "from sklearn.linear_model import LinearRegression\n",
    "model = LinearRegression()\n",
    "X = np.reshape(d.index, (-1, 1)) # transform X values\n",
    "y = np.reshape(d.values, (-1, 1)) # transform Y values\n",
    "model.fit(X, y)"
   ]
  },
  {
   "cell_type": "markdown",
   "metadata": {
    "id": "1TkEMyghG9xH"
   },
   "source": [
    "When the model is fitted, we can build our forecast. We should add new values for X and calculate Y.\n"
   ]
  },
  {
   "cell_type": "code",
   "execution_count": null,
   "metadata": {
    "id": "DdeW6-EZG9xH"
   },
   "outputs": [],
   "source": [
    "X_pred= np.append(X, [2021, 2022, 2023])\n",
    "X_pred = np.reshape(X_pred, (-1, 1))\n",
    "# calculate trend\n",
    "trend = model.predict(X_pred)\n",
    "\n",
    "plt.plot(X_pred, trend, \"-\", X, y, \".\")"
   ]
  },
  {
   "cell_type": "markdown",
   "metadata": {
    "id": "JtFDO5TMG9xI",
    "tags": []
   },
   "source": [
    "## Interactive maps\n"
   ]
  },
  {
   "cell_type": "markdown",
   "metadata": {
    "id": "dUYn7RkgG9xJ"
   },
   "source": [
    "### Data transformation for mapping\n"
   ]
  },
  {
   "cell_type": "markdown",
   "metadata": {
    "id": "kntTyQnSG9xK"
   },
   "source": [
    "It is convenient to display the changes of economic accounting on a map to visualize it. There are several libraries for this. It is convenient to use the library **[plotly.express](https://plotly.com/python/plotly-express/?utm_medium=Exinfluencer&utm_source=Exinfluencer&utm_content=000026UJ&utm_term=10006555&utm_id=NA-SkillsNetwork-Channel-SkillsNetworkQuickLabsdatascienceinagriculturebasicstatisticalanalysisandgeovisualisation28110426-2022-01-01)**.\n"
   ]
  },
  {
   "cell_type": "code",
   "execution_count": null,
   "metadata": {
    "id": "a4-syrnKG9xL"
   },
   "outputs": [],
   "source": [
    "import plotly.express as px"
   ]
  },
  {
   "cell_type": "markdown",
   "metadata": {
    "id": "XsYK6pkmG9xM"
   },
   "source": [
    "Let's display our DataSet.\n"
   ]
  },
  {
   "cell_type": "code",
   "execution_count": null,
   "metadata": {
    "id": "qpPxcmLlG9xM"
   },
   "outputs": [],
   "source": [
    "df"
   ]
  },
  {
   "cell_type": "markdown",
   "metadata": {
    "id": "R0uiJJrjG9xN"
   },
   "source": [
    "### Download polygons of maps\n"
   ]
  },
  {
   "cell_type": "markdown",
   "metadata": {
    "id": "dBjCPRyKG9xN"
   },
   "source": [
    "The next step is to download the map polygons. They are publicly available: [https://data.opendatasoft.com/explore/dataset/european-union-countries%40public/information/](https://data.opendatasoft.com/explore/dataset/european-union-countries%40public/information/?utm_medium=Exinfluencer&utm_source=Exinfluencer&utm_content=000026UJ&utm_term=10006555&utm_id=NA-SkillsNetwork-Channel-SkillsNetworkQuickLabsdatascienceinagriculturebasicstatisticalanalysisandgeovisualisation28110426-2022-01-01).\n",
    "Also a DataSet schema is presented on this site.\n",
    "You can see that the key \"NAME\" of this json is connected to the field \"location\" in our dataset.\n"
   ]
  },
  {
   "cell_type": "code",
   "execution_count": null,
   "metadata": {
    "id": "m3GPQYUFG9xO"
   },
   "outputs": [],
   "source": [
    "import json\n",
    "!wget european-union-countries.geojson \"https://cf-courses-data.s3.us.cloud-object-storage.appdomain.cloud/data-science-in-agriculture-basic-statistical-analysis-and-geo-visualisation/european-union-countries.geojson\"\n",
    "with open(\"european-union-countries.geojson\", encoding=\"utf8\") as json_file:\n",
    "    EU_map = json.load(json_file)\n"
   ]
  },
  {
   "cell_type": "markdown",
   "metadata": {
    "id": "s9Qth7HNG9xO"
   },
   "source": [
    "The next step is building an interactive map using **[plotly.express.choropleth()](https://plotly.com/python/mapbox-county-choropleth/?utm_medium=Exinfluencer&utm_source=Exinfluencer&utm_content=000026UJ&utm_term=10006555&utm_id=NA-SkillsNetwork-Channel-SkillsNetworkQuickLabsdatascienceinagriculturebasicstatisticalanalysisandgeovisualisation28110426-2022-01-01)**. We should send as input parameters:\n",
    "\n",
    "1.  Polgons of countries: geojson=EU_map,\n",
    "2.  Fields for comparison of countries in the DataSet: locations='location',\n",
    "3.  The key field in the json file that will be compared with locations: featureidkey='properties.name',\n",
    "4.  The color of countries: color= 'total_cases',\n",
    "5.  Information for the legend: hover_name= 'location', hover_data= \\['location', 'total_cases'],\n",
    "6.  Animation field: animation_frame= 'Date',\n",
    "7.  Color scale: color_continuous_scale=px.colors.diverging.RdYlGn\\[::-1]\n",
    "\n",
    "**Warning: you have to wait a few minutes**\n"
   ]
  },
  {
   "cell_type": "code",
   "execution_count": null,
   "metadata": {
    "id": "bKAZGUzVG9xP"
   },
   "outputs": [],
   "source": [
    "fig = px.choropleth(\n",
    "    df,\n",
    "    geojson=EU_map,\n",
    "    locations='country_name',\n",
    "    featureidkey='properties.name',    \n",
    "    color= 'OBS_VALUE', \n",
    "    scope='europe',\n",
    "    hover_name= 'country_name',\n",
    "    hover_data= ['country_name', 'OBS_VALUE'],\n",
    "    animation_frame= 'TIME_PERIOD', \n",
    "    color_continuous_scale=px.colors.diverging.RdYlGn[::-1]\n",
    ")"
   ]
  },
  {
   "cell_type": "markdown",
   "metadata": {
    "id": "07tG8cieG9xP"
   },
   "source": [
    "Than we should change some map features. For example: showcountries, showcoastline, showland and fitbouns in function: **[plotly.express.update_geos()](https://plotly.com/python/map-configuration/?utm_medium=Exinfluencer&utm_source=Exinfluencer&utm_content=000026UJ&utm_term=10006555&utm_id=NA-SkillsNetwork-Channel-SkillsNetworkQuickLabsdatascienceinagriculturebasicstatisticalanalysisandgeovisualisation28110426-2022-01-01)**.\n",
    "Also we can modify the map layout: **[plotly.express.update_layout](https://plotly.com/python/creating-and-updating-figures/?utm_medium=Exinfluencer&utm_source=Exinfluencer&utm_content=000026UJ&utm_term=10006555&utm_id=NA-SkillsNetwork-Channel-SkillsNetworkQuickLabsdatascienceinagriculturebasicstatisticalanalysisandgeovisualisation28110426-2022-01-01)**.\n"
   ]
  },
  {
   "cell_type": "code",
   "execution_count": null,
   "metadata": {
    "id": "2DT3WwK0G9xQ",
    "tags": []
   },
   "outputs": [],
   "source": [
    "fig.update_geos(showcountries=False, showcoastlines=False, showland=True, fitbounds=False)\n",
    "\n",
    "fig.update_layout(\n",
    "    title_text =\"Agriculture Economic accounts\",\n",
    "    title_x = 0.5,\n",
    "    geo= dict(\n",
    "        showframe= False,\n",
    "        showcoastlines= False,\n",
    "        projection_type = 'equirectangular'\n",
    "    ),\n",
    "    margin={\"r\":0,\"t\":0,\"l\":0,\"b\":0}\n",
    ")\n"
   ]
  },
  {
   "cell_type": "code",
   "execution_count": null,
   "metadata": {
    "id": "VFr7wiPWG9xR"
   },
   "outputs": [],
   "source": [
    "from IPython.display import HTML\n",
    "HTML(fig.to_html())"
   ]
  },
  {
   "cell_type": "markdown",
   "metadata": {
    "id": "2drVv2Njb31j"
   },
   "source": [
    "## Conclusions\n"
   ]
  },
  {
   "cell_type": "markdown",
   "metadata": {
    "id": "walUQ3bXb31k"
   },
   "source": [
    "As evidenced in practice, the data obtained in real field experiments is not suitable for direct statistical processing. Therefore, in this lab we learned the basic methods of downloading and preliminary data preparation.\n",
    "Unlike the well known classical approaches to statistical data analysis, Python contains many powerful libraries that allow you to manipulate data easily and quickly. Therefore, we have learned the basic methods of automating a library such as Pandas for statistical data analysis. We also learned the basic methods of visualizing the obtained data with the SeaBorn library which also contains effective means of visual data analysis. At the end of the laboratory work, we displayed the DataSet on a dynamic interactive map in \\* .html format.\n"
   ]
  },
  {
   "cell_type": "markdown",
   "metadata": {
    "id": "DL2DOYrVb31l"
   },
   "source": [
    "## Authors\n"
   ]
  },
  {
   "cell_type": "markdown",
   "metadata": {
    "id": "cywGgchub31l"
   },
   "source": [
    "[Yaroslav Vyklyuk, prof., PhD., DrSc](http://vyklyuk.bukuniver.edu.ua/en/?utm_medium=Exinfluencer&utm_source=Exinfluencer&utm_content=000026UJ&utm_term=10006555&utm_id=NA-SkillsNetwork-Channel-SkillsNetworkQuickLabsdatascienceinagriculturebasicstatisticalanalysisandgeovisualisation28110426-2022-01-01)\n"
   ]
  },
  {
   "cell_type": "markdown",
   "metadata": {
    "id": "AYrgf5xIb31m"
   },
   "source": [
    "Copyright © 2020 IBM Corporation. This notebook and its source code are released under the terms of the [MIT License](https://cognitiveclass.ai/mit-license/?utm_medium=Exinfluencer&utm_source=Exinfluencer&utm_content=000026UJ&utm_term=10006555&utm_id=NA-SkillsNetwork-Channel-SkillsNetworkQuickLabsdatascienceinagriculturebasicstatisticalanalysisandgeovisualisation28110426-2022-01-01).\n"
   ]
  }
 ],
 "metadata": {
  "colab": {
   "collapsed_sections": [],
   "name": "Lab1_eng_task.ipynb",
   "provenance": [],
   "toc_visible": true
  },
  "kernelspec": {
   "display_name": "Python 3 (ipykernel)",
   "language": "python",
   "name": "python3"
  },
  "language_info": {
   "codemirror_mode": {
    "name": "ipython",
    "version": 3
   },
   "file_extension": ".py",
   "mimetype": "text/x-python",
   "name": "python",
   "nbconvert_exporter": "python",
   "pygments_lexer": "ipython3",
   "version": "3.8.13"
  }
 },
 "nbformat": 4,
 "nbformat_minor": 4
}
